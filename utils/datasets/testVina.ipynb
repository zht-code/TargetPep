{
 "cells": [
  {
   "cell_type": "code",
   "execution_count": 2,
   "metadata": {},
   "outputs": [],
   "source": [
    "from vina import Vina"
   ]
  },
  {
   "cell_type": "code",
   "execution_count": 12,
   "metadata": {},
   "outputs": [],
   "source": [
    "v = Vina(sf_name='vina')"
   ]
  },
  {
   "cell_type": "code",
   "execution_count": 3,
   "metadata": {},
   "outputs": [],
   "source": [
    "from openbabel import pybel\n",
    "import os"
   ]
  },
  {
   "cell_type": "code",
   "execution_count": 3,
   "metadata": {},
   "outputs": [
    {
     "name": "stdout",
     "output_type": "stream",
     "text": [
      "Running command: /root/mgltools_x86_64Linux2_1.5.7/bin/pythonsh /root/mgltools_x86_64Linux2_1.5.7/MGLToolsPckgs/AutoDockTools/Utilities24/prepare_receptor.py -r /root/autodl-tmp/PP_generate_v1/data/PPDbench/1cjr/receptor.pdb -o /root/autodl-tmp/PP_generate_v1/data/PPDbench/1cjr/receptor.pdbqt\n",
      "Command output: setting PYTHONHOME environment\n",
      "receptor:B:HIS25 missing both hydrogens!\n",
      "receptor:B:HIS82 missing both hydrogens!\n",
      "receptor:B:HIS96 missing both hydrogens!\n",
      "polar hydrogens missing from n-terminus of chain B\n",
      "\n",
      "Command error: \n",
      "Wrote converted file to /root/autodl-tmp/PP_generate_v1/data/PPDbench/1cjr/receptor.pdbqt\n"
     ]
    }
   ],
   "source": [
    "import os\n",
    "import subprocess\n",
    "\n",
    "def pdb_to_pdbqt(pdb_file, pdbqt_file):\n",
    "    \"\"\"将 PDB 文件转换为 PDBQT 文件\"\"\"\n",
    "    command = [\n",
    "        '/root/mgltools_x86_64Linux2_1.5.7/bin/pythonsh',\n",
    "        # '/root/mgltools_x86_64Linux2_1.5.7/MGLToolsPckgs/AutoDockTools/Utilities24/prepare_ligand.py',\n",
    "        '/root/mgltools_x86_64Linux2_1.5.7/MGLToolsPckgs/AutoDockTools/Utilities24/prepare_receptor.py',\n",
    "        '-r', pdb_file,\n",
    "        '-o', pdbqt_file\n",
    "    ]\n",
    "    print(f\"Running command: {' '.join(command)}\")\n",
    "    \n",
    "    # 运行命令并捕获输出和错误信息\n",
    "    result = subprocess.run(command, capture_output=True, text=True)\n",
    "    \n",
    "    # 打印详细的输出和错误信息\n",
    "    print(f\"Command output: {result.stdout}\")\n",
    "    print(f\"Command error: {result.stderr}\")\n",
    "    \n",
    "    if result.returncode != 0:\n",
    "        raise RuntimeError(f\"Error converting {pdb_file} to {pdbqt_file}: {result.stderr}\")\n",
    "    \n",
    "    print(f'Wrote converted file to {pdbqt_file}')\n",
    "    return pdbqt_file\n",
    "\n",
    "if __name__ == '__main__':\n",
    "    # 指定输入的 PDB 文件路径\n",
    "    pdb_file = '/root/autodl-tmp/PP_generate_v1/data/PPDbench/1cjr/receptor.pdb'\n",
    "    \n",
    "    # 指定输出的 PDBQT 文件路径\n",
    "    pdbqt_file = '/root/autodl-tmp/PP_generate_v1/data/PPDbench/1cjr/receptor.pdbqt'\n",
    "    \n",
    "    # 确保输出目录存在\n",
    "    os.makedirs(os.path.dirname(pdbqt_file), exist_ok=True)\n",
    "    \n",
    "    # 检查输入文件是否存在\n",
    "    if not os.path.exists(pdb_file):\n",
    "        raise FileNotFoundError(f\"Input file {pdb_file} does not exist.\")\n",
    "    \n",
    "    # 检查输入文件是否可读\n",
    "    if not os.access(pdb_file, os.R_OK):\n",
    "        raise PermissionError(f\"Input file {pdb_file} is not readable.\")\n",
    "    \n",
    "    # 转换 PDB 文件为 PDBQT 文件\n",
    "    try:\n",
    "        pdb_to_pdbqt(pdb_file, pdbqt_file)\n",
    "    except Exception as e:\n",
    "        print(f\"An error occurred: {e}\")"
   ]
  },
  {
   "cell_type": "code",
   "execution_count": 19,
   "metadata": {},
   "outputs": [],
   "source": [
    "#直接给pdbqt的string就行\n",
    "root = '/home/zht/programs/PP_generate/data/ppbench2024/1a0m_A/'\n",
    "peptide_file = os.path.join(root,'peptide.pdb')\n",
    "receptor_file = os.path.join(root,'receptor.pdb')\n",
    "mol = next(pybel.readfile('pdb',peptide_file))\n",
    "mol.write('pdbqt','/home/zht/programs/PP_generate/data/ppbench2024/1a0m_A/peptide.pdbqt',overwrite=True)\n",
    "# re_mol = next(pybel.readfile('pdb',receptor_file))\n",
    "# pdbqt_str = re_mol.write('pdbqt', './re.pdbqt', overwrite=True)"
   ]
  },
  {
   "cell_type": "code",
   "execution_count": 3,
   "metadata": {},
   "outputs": [],
   "source": [
    "from vina import Vina\n",
    "re_pdbqt_file = '/root/autodl-tmp/PP_generate_v1/data/PPDbench/1cjr/receptor.pdbqt'\n",
    "pep_pdbqt_file = '/root/autodl-tmp/PP_generate_v1/data/PPDbench/1cjr/peptide.pdbqt'\n",
    "v = Vina()\n",
    "v.set_receptor(re_pdbqt_file)\n",
    "# v.set_ligand_from_file(pep_pdbqt_file)"
   ]
  },
  {
   "cell_type": "code",
   "execution_count": null,
   "metadata": {},
   "outputs": [],
   "source": [
    "import os\n",
    "from vina import Vina\n",
    "from openbabel import pybel\n",
    "from Bio import PDB\n",
    "import numpy as np\n",
    "import tempfile"
   ]
  },
  {
   "cell_type": "code",
   "execution_count": 4,
   "metadata": {},
   "outputs": [],
   "source": [
    "v = Vina(sf_name='vina')"
   ]
  },
  {
   "cell_type": "code",
   "execution_count": 18,
   "metadata": {},
   "outputs": [],
   "source": [
    "class MySelect(PDB.Select):\n",
    "    '''预处理蛋白质---选择类'''\n",
    "    def accept_residue(self, residue):\n",
    "    # 过滤 保留主要的氨基酸残基\n",
    "    # 只接受非水分子和非离子\n",
    "        return residue.get_resname() not in ['HOH', 'Na', 'Cl', 'K', 'Mg', 'Ca']\n",
    "        \n",
    "#过滤函数    \n",
    "def filter_structure_without_h2oNion(protein_structure,protein_name):\n",
    "    '''预处理蛋白质---过滤水和离子'''\n",
    "    filtered_protein_structure = PDB.Structure.Structure(\"filtered_\"+protein_name)\n",
    "    for model in protein_structure:\n",
    "        new_model = PDB.Model.Model(model.id)\n",
    "        for chain in model:\n",
    "            new_chain = PDB.Chain.Chain(chain.id)\n",
    "            for residue in chain:\n",
    "                if MySelect().accept_residue(residue):\n",
    "                    new_chain.add(residue.copy())  # 添加过滤后的残基\n",
    "            if len(new_chain) > 0:\n",
    "                new_model.add(new_chain)\n",
    "        filtered_protein_structure.add(new_model)\n",
    "    return filtered_protein_structure\n",
    "\n",
    "\n",
    "def get_interaction_windows(threshold,filtered_receptor_structure,filtered_peptide_structure):\n",
    "    '''获取窗口位置坐标'''\n",
    "    #获取多肽原子位置\n",
    "    peptide_atoms = [atom for model in filtered_peptide_structure for chain in model for residue in chain for atom in residue]\n",
    "    peptide_coords = [atom.coord for atom in peptide_atoms]\n",
    "\n",
    "     # 获取受体的残基 is_aa保证是氨基酸\n",
    "    receptor_residues = [residue for model in filtered_receptor_structure for chain in model for residue in chain if PDB.is_aa(residue)]\n",
    "\n",
    "    interaction_windows = []\n",
    "    for residue in receptor_residues:\n",
    "        for peptide_coord in peptide_coords:\n",
    "            # 计算坐标的距离 \n",
    "            distance = residue['CA'].coord - peptide_coord\n",
    "            if np.linalg.norm(distance) <= threshold:\n",
    "                # 如果在阈值内，保存受体残基坐标(CA为中心)\n",
    "                interaction_windows.append(residue['CA'].coord)\n",
    "                break  # 找到一个相互作用后，可以跳出循环\n",
    "    return interaction_windows"
   ]
  },
  {
   "cell_type": "code",
   "execution_count": 5,
   "metadata": {},
   "outputs": [],
   "source": [
    "#转换pdb文件为pdbqt 并返回已经加载受体和配体的v\n",
    "def read_pdb_files_into_vina(peptide_path,receptor_path,interaction_windows=None):\n",
    "    v = Vina(sf_name='vina')\n",
    "    peptide_mol = next(pybel.readfile('pdb',peptide_path))\n",
    "    receptor_mol = next(pybel.readfile('pdb',receptor_path))\n",
    "    #手动创建临时文件\n",
    "    temp_receptor_path = receptor_path.replace('.pdb', '_temp.pdbqt')\n",
    "    receptor_mol.write('pdbqt', temp_receptor_path)\n",
    "    #创建不成功\n",
    "    if not os.path.exists(temp_receptor_path):\n",
    "        print(f\"Error: Temporary receptor file {temp_receptor_path} was not created.\")\n",
    "    v.set_receptor(temp_receptor_path)\n",
    "\n",
    "    peptide_pdbqt_str = peptide_mol.write('pdbqt')\n",
    "    v.set_ligand_from_string(peptide_pdbqt_str)\n",
    "\n",
    "    # #设置搜索空间\n",
    "    # box_size = []\n",
    "\n"
   ]
  },
  {
   "cell_type": "code",
   "execution_count": 7,
   "metadata": {},
   "outputs": [],
   "source": [
    "import os\n",
    "#直接给pdbqt的string就行\n",
    "root = '/root/autodl-tmp/PP_generate_v1/data/PPDbench/1cjr/'\n",
    "peptide_path = os.path.join(root,'peptide.pdb')\n",
    "receptor_path = os.path.join(root,'receptor.pdb')"
   ]
  },
  {
   "cell_type": "code",
   "execution_count": 8,
   "metadata": {},
   "outputs": [
    {
     "ename": "NameError",
     "evalue": "name 'pybel' is not defined",
     "output_type": "error",
     "traceback": [
      "\u001b[0;31m---------------------------------------------------------------------------\u001b[0m",
      "\u001b[0;31mNameError\u001b[0m                                 Traceback (most recent call last)",
      "Cell \u001b[0;32mIn[8], line 1\u001b[0m\n\u001b[0;32m----> 1\u001b[0m v \u001b[38;5;241m=\u001b[39m \u001b[43mread_pdb_files_into_vina\u001b[49m\u001b[43m(\u001b[49m\u001b[43mpeptide_path\u001b[49m\u001b[43m,\u001b[49m\u001b[43mreceptor_path\u001b[49m\u001b[43m)\u001b[49m\n",
      "Cell \u001b[0;32mIn[5], line 4\u001b[0m, in \u001b[0;36mread_pdb_files_into_vina\u001b[0;34m(peptide_path, receptor_path, interaction_windows)\u001b[0m\n\u001b[1;32m      2\u001b[0m \u001b[38;5;28;01mdef\u001b[39;00m \u001b[38;5;21mread_pdb_files_into_vina\u001b[39m(peptide_path,receptor_path,interaction_windows\u001b[38;5;241m=\u001b[39m\u001b[38;5;28;01mNone\u001b[39;00m):\n\u001b[1;32m      3\u001b[0m     v \u001b[38;5;241m=\u001b[39m Vina(sf_name\u001b[38;5;241m=\u001b[39m\u001b[38;5;124m'\u001b[39m\u001b[38;5;124mvina\u001b[39m\u001b[38;5;124m'\u001b[39m)\n\u001b[0;32m----> 4\u001b[0m     peptide_mol \u001b[38;5;241m=\u001b[39m \u001b[38;5;28mnext\u001b[39m(\u001b[43mpybel\u001b[49m\u001b[38;5;241m.\u001b[39mreadfile(\u001b[38;5;124m'\u001b[39m\u001b[38;5;124mpdb\u001b[39m\u001b[38;5;124m'\u001b[39m,peptide_path))\n\u001b[1;32m      5\u001b[0m     receptor_mol \u001b[38;5;241m=\u001b[39m \u001b[38;5;28mnext\u001b[39m(pybel\u001b[38;5;241m.\u001b[39mreadfile(\u001b[38;5;124m'\u001b[39m\u001b[38;5;124mpdb\u001b[39m\u001b[38;5;124m'\u001b[39m,receptor_path))\n\u001b[1;32m      6\u001b[0m     \u001b[38;5;66;03m#手动创建临时文件\u001b[39;00m\n",
      "\u001b[0;31mNameError\u001b[0m: name 'pybel' is not defined"
     ]
    }
   ],
   "source": [
    "v = read_pdb_files_into_vina(peptide_path,receptor_path)"
   ]
  },
  {
   "cell_type": "code",
   "execution_count": null,
   "metadata": {},
   "outputs": [],
   "source": []
  }
 ],
 "metadata": {
  "kernelspec": {
   "display_name": "vina",
   "language": "python",
   "name": "python3"
  },
  "language_info": {
   "codemirror_mode": {
    "name": "ipython",
    "version": 3
   },
   "file_extension": ".py",
   "mimetype": "text/x-python",
   "name": "python",
   "nbconvert_exporter": "python",
   "pygments_lexer": "ipython3",
   "version": "3.7.16"
  }
 },
 "nbformat": 4,
 "nbformat_minor": 2
}
