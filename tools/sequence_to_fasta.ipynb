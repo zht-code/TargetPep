{
 "cells": [
  {
   "cell_type": "code",
   "execution_count": 5,
   "metadata": {},
   "outputs": [
    {
     "name": "stdout",
     "output_type": "stream",
     "text": [
      "FASTA file has been written successfully.\n"
     ]
    }
   ],
   "source": [
    "import requests\n",
    "# 将json文件中的多肽序列保存成fasta格式使用CAMP网站在线批量计算多肽活性\n",
    "import json\n",
    "\n",
    "# JSON文件路径\n",
    "json_file_path = '/root/autodl-tmp/PP_generate_v1/data/top_k/peptides_final_rep5.json'\n",
    "\n",
    "# 输出FASTA文件的路径\n",
    "fasta_file_path = '/root/autodl-tmp/PP_generate_v1/data/top_k/peptides_final_rep5.fasta'\n",
    "\n",
    "# 加载JSON数据\n",
    "with open(json_file_path, 'r') as file:\n",
    "    data = json.load(file)\n",
    "\n",
    "# 打开一个文件用于写入FASTA格式的数据\n",
    "with open(fasta_file_path, 'w') as fasta_file:\n",
    "    # 遍历每个多肽数据条目\n",
    "    for protein_id, info in data.items():\n",
    "        # 获取多肽序列\n",
    "        generated_peptide = info['generated_peptide']\n",
    "        # 编写FASTA格式的头部\n",
    "        fasta_header = f\">{protein_id}\\n\"\n",
    "        # 编写FASTA格式的序列部分\n",
    "        fasta_sequence = f\"{generated_peptide}\\n\"\n",
    "        # 将头部和序列写入文件\n",
    "        fasta_file.write(fasta_header)\n",
    "        fasta_file.write(fasta_sequence)\n",
    "\n",
    "print(\"FASTA file has been written successfully.\")\n"
   ]
  },
  {
   "cell_type": "code",
   "execution_count": 2,
   "metadata": {},
   "outputs": [
    {
     "name": "stdout",
     "output_type": "stream",
     "text": [
      "FASTA file has been written successfully.\n"
     ]
    }
   ],
   "source": [
    "import requests\n",
    "# 将json文件中的多肽序列保存成fasta格式使用CAMP网站在线批量计算多肽活性\n",
    "import json\n",
    "\n",
    "# JSON文件路径\n",
    "json_file_path = '/root/autodl-tmp/PP_generate_v1/data/output/new_generated_peptides.json'\n",
    "\n",
    "# 输出FASTA文件的路径\n",
    "fasta_file_path = '/root/autodl-tmp/PP_generate_v1/data/output/peptide_test.fasta'\n",
    "\n",
    "# 加载JSON数据\n",
    "with open(json_file_path, 'r') as file:\n",
    "    data = json.load(file)\n",
    "\n",
    "# 打开一个文件用于写入FASTA格式的数据\n",
    "with open(fasta_file_path, 'w') as fasta_file:\n",
    "    # 遍历每个多肽数据条目\n",
    "    for protein_id, info in data.items():\n",
    "        # 获取多肽序列\n",
    "        generated_peptide = info['test_peptide']\n",
    "        # 编写FASTA格式的头部\n",
    "        fasta_header = f\">{protein_id}\\n\"\n",
    "        # 编写FASTA格式的序列部分\n",
    "        fasta_sequence = f\"{generated_peptide}\\n\"\n",
    "        # 将头部和序列写入文件\n",
    "        fasta_file.write(fasta_header)\n",
    "        fasta_file.write(fasta_sequence)\n",
    "\n",
    "print(\"FASTA file has been written successfully.\")\n"
   ]
  },
  {
   "cell_type": "code",
   "execution_count": null,
   "metadata": {},
   "outputs": [
    {
     "name": "stdout",
     "output_type": "stream",
     "text": [
      "Error: /bin/sh: 1: amp_scanner_command: not found\n",
      "\n",
      "Result: \n"
     ]
    }
   ],
   "source": [
    "# 使用AMP Scanner官网在线预测"
   ]
  },
  {
   "cell_type": "code",
   "execution_count": null,
   "metadata": {},
   "outputs": [],
   "source": [
    "# 使用macrel官网在线预测"
   ]
  },
  {
   "cell_type": "code",
   "execution_count": null,
   "metadata": {},
   "outputs": [],
   "source": [
    "import subprocess\n",
    "import gzip\n",
    "def predict_macrel(peptide_sequence):\n",
    "    fasta_path = \"/root/autodl-tmp/PP_generate_v1/data/result/peptide.fasta\"\n",
    "    output_folder = \"/root/autodl-tmp/PP_generate_v1/data/result/macrel_output\"\n",
    "    with open(fasta_path, \"w\") as file:\n",
    "        file.write(f\">peptide\\n{peptide_sequence}\")\n",
    "    cmd = f\"macrel peptides -f {fasta_path} -o {output_folder}\"\n",
    "    try:\n",
    "        subprocess.run(cmd, shell=True, check=True, stdout=subprocess.PIPE, stderr=subprocess.PIPE, text=True)\n",
    "        # print(\"STDOUT:\", result.stdout)\n",
    "        # print(\"STDERR:\", result.stderr)\n",
    "    except subprocess.CalledProcessError as e:\n",
    "        print(f\"Error running macrel: {e.stderr}\")\n",
    "        return None\n",
    "    \n",
    "    result_path = f\"{output_folder}/macrel.out.prediction.gz\"\n",
    "    try:\n",
    "        with gzip.open(result_path, \"rt\") as file:\n",
    "            results = file.readlines()  # 读取所有行到一个列表中\n",
    "        if len(results) < 2:\n",
    "            print(\"Not enough data in results.\")\n",
    "            return None\n",
    "        header = results[0].split()  # 分割标题行，获取列名\n",
    "        values = results[1].split()  # 分割数据行，获取值\n",
    "        print(\"Headers found:\", header)  # 调试输出标题\n",
    "        print(\"Values found:\", values)   # 调试输出值\n",
    "        print(\"results found:\", results)   # 调试输出值\n",
    "        # 将标题和值映射到字典中\n",
    "        result_dict = dict(zip(header, values))\n",
    "        # 提取并返回特定的字段\n",
    "        return (result_dict.get('AMP_probability', 'N/A'), \n",
    "                result_dict.get('Hemolytic', 'N/A'), \n",
    "                result_dict.get('Hemolytic_probability', 'N/A'))\n",
    "    except FileNotFoundError:\n",
    "        print(\"Result file not found. Check the output directory and macrel output.\")\n",
    "        return None\n",
    "\n",
    "# 示例多肽\n",
    "peptide = \"RPKITKFASAV\"\n",
    "amp_prob, hemolytic, hemo_prob = predict_macrel(peptide)\n",
    "print(f\"AMP Probability: {amp_prob}, Hemolytic: {hemolytic}, Hemolytic Probability: {hemo_prob}\")\n"
   ]
  }
 ],
 "metadata": {
  "kernelspec": {
   "display_name": "pp_esm3",
   "language": "python",
   "name": "python3"
  },
  "language_info": {
   "codemirror_mode": {
    "name": "ipython",
    "version": 3
   },
   "file_extension": ".py",
   "mimetype": "text/x-python",
   "name": "python",
   "nbconvert_exporter": "python",
   "pygments_lexer": "ipython3",
   "version": "3.10.14"
  }
 },
 "nbformat": 4,
 "nbformat_minor": 2
}
